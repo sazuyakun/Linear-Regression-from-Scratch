{
 "cells": [
  {
   "cell_type": "code",
   "execution_count": 396,
   "metadata": {},
   "outputs": [],
   "source": [
    "import numpy as np\n",
    "import pandas as pd\n",
    "import matplotlib.pyplot as plt"
   ]
  },
  {
   "cell_type": "code",
   "execution_count": 397,
   "metadata": {},
   "outputs": [],
   "source": [
    "df = pd.read_csv('data.csv')"
   ]
  },
  {
   "cell_type": "code",
   "execution_count": 398,
   "metadata": {},
   "outputs": [
    {
     "data": {
      "text/html": [
       "<div>\n",
       "<style scoped>\n",
       "    .dataframe tbody tr th:only-of-type {\n",
       "        vertical-align: middle;\n",
       "    }\n",
       "\n",
       "    .dataframe tbody tr th {\n",
       "        vertical-align: top;\n",
       "    }\n",
       "\n",
       "    .dataframe thead th {\n",
       "        text-align: right;\n",
       "    }\n",
       "</style>\n",
       "<table border=\"1\" class=\"dataframe\">\n",
       "  <thead>\n",
       "    <tr style=\"text-align: right;\">\n",
       "      <th></th>\n",
       "      <th>X</th>\n",
       "      <th>y</th>\n",
       "    </tr>\n",
       "  </thead>\n",
       "  <tbody>\n",
       "    <tr>\n",
       "      <th>0</th>\n",
       "      <td>32.502345</td>\n",
       "      <td>31.707006</td>\n",
       "    </tr>\n",
       "    <tr>\n",
       "      <th>1</th>\n",
       "      <td>53.426804</td>\n",
       "      <td>68.777596</td>\n",
       "    </tr>\n",
       "    <tr>\n",
       "      <th>2</th>\n",
       "      <td>61.530358</td>\n",
       "      <td>62.562382</td>\n",
       "    </tr>\n",
       "    <tr>\n",
       "      <th>3</th>\n",
       "      <td>47.475640</td>\n",
       "      <td>71.546632</td>\n",
       "    </tr>\n",
       "    <tr>\n",
       "      <th>4</th>\n",
       "      <td>59.813208</td>\n",
       "      <td>87.230925</td>\n",
       "    </tr>\n",
       "  </tbody>\n",
       "</table>\n",
       "</div>"
      ],
      "text/plain": [
       "           X          y\n",
       "0  32.502345  31.707006\n",
       "1  53.426804  68.777596\n",
       "2  61.530358  62.562382\n",
       "3  47.475640  71.546632\n",
       "4  59.813208  87.230925"
      ]
     },
     "execution_count": 398,
     "metadata": {},
     "output_type": "execute_result"
    }
   ],
   "source": [
    "df.head()"
   ]
  },
  {
   "cell_type": "code",
   "execution_count": 399,
   "metadata": {},
   "outputs": [],
   "source": [
    "X = df.iloc[:, 0].to_numpy().reshape(-1,1)\n",
    "y = df.iloc[:, 1].to_numpy().reshape(-1,1)"
   ]
  },
  {
   "cell_type": "code",
   "execution_count": 400,
   "metadata": {},
   "outputs": [
    {
     "data": {
      "text/plain": [
       "(100, 1)"
      ]
     },
     "execution_count": 400,
     "metadata": {},
     "output_type": "execute_result"
    }
   ],
   "source": [
    "X.shape"
   ]
  },
  {
   "cell_type": "code",
   "execution_count": 401,
   "metadata": {},
   "outputs": [],
   "source": [
    "# Creating an array containing only ones\n",
    "ones = np.ones((X.shape[0], 1))\n",
    "X = np.concatenate((X, ones), axis=1)"
   ]
  },
  {
   "cell_type": "code",
   "execution_count": 402,
   "metadata": {},
   "outputs": [
    {
     "data": {
      "text/plain": [
       "((100, 2), (100, 1))"
      ]
     },
     "execution_count": 402,
     "metadata": {},
     "output_type": "execute_result"
    }
   ],
   "source": [
    "X.shape, y.shape"
   ]
  },
  {
   "cell_type": "code",
   "execution_count": 403,
   "metadata": {},
   "outputs": [
    {
     "data": {
      "text/plain": [
       "<matplotlib.collections.PathCollection at 0x1687eee50>"
      ]
     },
     "execution_count": 403,
     "metadata": {},
     "output_type": "execute_result"
    },
    {
     "data": {
      "image/png": "[encoded data removed]",
      "text/plain": [
       "<Figure size 640x480 with 1 Axes>"
      ]
     },
     "metadata": {},
     "output_type": "display_data"
    }
   ],
   "source": [
    "plt.scatter(df.iloc[:, 0].to_numpy(), y)"
   ]
  },
  {
   "cell_type": "markdown",
   "metadata": {},
   "source": [
    "## Setting the hyperparameters"
   ]
  },
  {
   "cell_type": "code",
   "execution_count": 404,
   "metadata": {},
   "outputs": [],
   "source": [
    "alpha = 0.0001   # Learning rate\n",
    "iters = 1000    # Iterations\n",
    "\n",
    "# Theta is the row vector\n",
    "theta = np.array([[1.0, 1.0]])"
   ]
  },
  {
   "cell_type": "code",
   "execution_count": 405,
   "metadata": {},
   "outputs": [],
   "source": [
    "def computeCost(X, y, theta):\n",
    "    inner = np.power(((X @ theta.T) - y), 2)\n",
    "    return np.sum(inner) / (2 * len(X))"
   ]
  },
  {
   "cell_type": "code",
   "execution_count": 406,
   "metadata": {},
   "outputs": [
    {
     "data": {
      "text/plain": [
       "319.4063158939815"
      ]
     },
     "execution_count": 406,
     "metadata": {},
     "output_type": "execute_result"
    }
   ],
   "source": [
    "computeCost(X, y, theta)"
   ]
  },
  {
   "cell_type": "code",
   "execution_count": 407,
   "metadata": {},
   "outputs": [],
   "source": [
    "def gradientDescent(X, y, theta, alpha, iters):\n",
    "    for i in range(iters):\n",
    "        theta = theta - (alpha/len(X)) * np.sum((X @ theta.T - y) * X, axis=0)\n",
    "        cost = computeCost(X, y, theta)\n",
    "        if i % 10 == 0: # just look at cost every ten loops for debugging\n",
    "            print(cost)\n",
    "    return (theta, cost)"
   ]
  },
  {
   "cell_type": "code",
   "execution_count": 408,
   "metadata": {},
   "outputs": [
    {
     "name": "stdout",
     "output_type": "stream",
     "text": [
      "204.50666115574055\n",
      "56.52985181213651\n",
      "56.05030590326913\n",
      "56.04868285547168\n",
      "56.04860838575526\n",
      "56.04853893898854\n",
      "56.04846951372054\n",
      "56.048400093745066\n",
      "56.0483306790092\n",
      "56.0482612695124\n",
      "56.04819186525426\n",
      "56.04812246623441\n",
      "56.048053072452404\n",
      "56.04798368390788\n",
      "56.04791430060044\n",
      "56.047844922529706\n",
      "56.047775549695224\n",
      "56.04770618209666\n",
      "56.0476368197336\n",
      "56.04756746260565\n",
      "56.047498110712375\n",
      "56.047428764053464\n",
      "56.04735942262844\n",
      "56.04729008643696\n",
      "56.04722075547861\n",
      "56.047151429752965\n",
      "56.047082109259684\n",
      "56.047012793998334\n",
      "56.04694348396856\n",
      "56.04687417916992\n",
      "56.046804879602035\n",
      "56.04673558526455\n",
      "56.04666629615701\n",
      "56.04659701227904\n",
      "56.046527733630256\n",
      "56.04645846021026\n",
      "56.04638919201868\n",
      "56.04631992905506\n",
      "56.046250671319065\n",
      "56.04618141881028\n",
      "56.046112171528314\n",
      "56.04604292947275\n",
      "56.04597369264323\n",
      "56.04590446103932\n",
      "56.045835234660665\n",
      "56.04576601350684\n",
      "56.045696797577456\n",
      "56.04562758687215\n",
      "56.045558381390464\n",
      "56.04548918113209\n",
      "56.04541998609654\n",
      "56.04535079628351\n",
      "56.04528161169254\n",
      "56.04521243232326\n",
      "56.04514325817529\n",
      "56.04507408924819\n",
      "56.045004925541605\n",
      "56.04493576705514\n",
      "56.04486661378838\n",
      "56.044797465740956\n",
      "56.04472832291247\n",
      "56.04465918530249\n",
      "56.04459005291067\n",
      "56.044520925736585\n",
      "56.04445180377989\n",
      "56.044382687040134\n",
      "56.04431357551694\n",
      "56.04424446920993\n",
      "56.04417536811869\n",
      "56.044106272242836\n",
      "56.04403718158199\n",
      "56.04396809613573\n",
      "56.04389901590366\n",
      "56.04382994088544\n",
      "56.04376087108059\n",
      "56.043691806488795\n",
      "56.04362274710964\n",
      "56.043553692942716\n",
      "56.04348464398761\n",
      "56.04341560024398\n",
      "56.043346561711395\n",
      "56.043277528389474\n",
      "56.04320850027785\n",
      "56.04313947737607\n",
      "56.04307045968378\n",
      "56.043001447200595\n",
      "56.0429324399261\n",
      "56.04286343785992\n",
      "56.04279444100166\n",
      "56.04272544935089\n",
      "56.04265646290725\n",
      "56.04258748167035\n",
      "56.04251850563981\n",
      "56.042449534815205\n",
      "56.042380569196126\n",
      "56.04231160878225\n",
      "56.04224265357311\n",
      "56.04217370356838\n",
      "56.04210475876759\n",
      "56.04203581917042\n"
     ]
    }
   ],
   "source": [
    "g, reduced_cost = gradientDescent(X, y, theta, alpha, iters)"
   ]
  },
  {
   "cell_type": "code",
   "execution_count": 409,
   "metadata": {},
   "outputs": [
    {
     "name": "stdout",
     "output_type": "stream",
     "text": [
      "g: [[1.45914242 1.03536024]]\n",
      "Reduced cost: 56.04197377798171\n"
     ]
    }
   ],
   "source": [
    "print(f'''g: {theta_final}\n",
    "Reduced cost: {reduced_cost}''')"
   ]
  },
  {
   "cell_type": "markdown",
   "metadata": {},
   "source": [
    "## Regression line"
   ]
  },
  {
   "cell_type": "code",
   "execution_count": 411,
   "metadata": {},
   "outputs": [
    {
     "data": {
      "text/plain": [
       "[<matplotlib.lines.Line2D at 0x1689245d0>]"
      ]
     },
     "execution_count": 411,
     "metadata": {},
     "output_type": "execute_result"
    },
    {
     "data": {
      "image/png": "[encoded data removed]",
      "text/plain": [
       "<Figure size 640x480 with 1 Axes>"
      ]
     },
     "metadata": {},
     "output_type": "display_data"
    }
   ],
   "source": [
    "plt.scatter(df.iloc[:, 0].to_numpy(), y)\n",
    "axes = plt.gca()\n",
    "x_vals = np.array(axes.get_xlim()) \n",
    "# x_vals = df.iloc[:, 0].to_numpy() \n",
    "y_vals = g[0][0] * x_vals + g[0][1]\n",
    "plt.plot(x_vals, y_vals, '--')\n"
   ]
  },
  {
   "cell_type": "code",
   "execution_count": null,
   "metadata": {},
   "outputs": [],
   "source": []
  }
 ],
 "metadata": {
  "kernelspec": {
   "display_name": "base",
   "language": "python",
   "name": "python3"
  },
  "language_info": {
   "codemirror_mode": {
    "name": "ipython",
    "version": 3
   },
   "file_extension": ".py",
   "mimetype": "text/x-python",
   "name": "python",
   "nbconvert_exporter": "python",
   "pygments_lexer": "ipython3",
   "version": "3.11.8"
  }
 },
 "nbformat": 4,
 "nbformat_minor": 2
}
